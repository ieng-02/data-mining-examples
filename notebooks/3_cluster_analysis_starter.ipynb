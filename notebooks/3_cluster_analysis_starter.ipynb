{
 "cells": [
  {
   "cell_type": "markdown",
   "id": "93a13121-719d-4267-992c-2364311b8522",
   "metadata": {},
   "source": [
    "# Cluster Analysis"
   ]
  },
  {
   "cell_type": "markdown",
   "id": "749223b5-814c-4ac8-a8dd-6e7d1bdd6abf",
   "metadata": {},
   "source": [
    "#### Import libraries"
   ]
  },
  {
   "cell_type": "code",
   "execution_count": 1,
   "id": "a492519c-359a-41d5-9f67-82a5b831a3f2",
   "metadata": {},
   "outputs": [],
   "source": [
    "import os\n",
    "import pandas as pd\n",
    "import numpy as np\n",
    "from scipy.spatial.distance import euclidean\n",
    "import matplotlib.pylab as plt \n",
    "import matplotlib.colors\n",
    "import matplotlib.cm as cm\n",
    "import seaborn as sns \n",
    "from pandas.plotting import parallel_coordinates\n",
    "from sklearn.cluster import KMeans\n",
    "from sklearn import preprocessing\n",
    "from sklearn.metrics import silhouette_score\n",
    "from sklearn.decomposition import PCA\n",
    "\n",
    "# Set random seed variable for code reproducibility\n",
    "SEED = 0\n",
    "# Set the number of threads to avoid kmeans thread warning\n",
    "os.environ['OMP_NUM_THREADS'] = '1'"
   ]
  },
  {
   "cell_type": "markdown",
   "id": "190e2f81-0094-4edf-9f13-d4a7cd6df595",
   "metadata": {},
   "source": [
    "### Example 1: Lecture\n",
    "\n",
    "**Calculate distance between Homer and Mr. Burns**\n",
    "\n",
    "Example 1:\n",
    "Homer: Age = 68, Income = $50,000 and # of Credit Cards = 5\n",
    "Mr. Burns: Age = 97, Income = 1,000,000 and # of Credit Cards = 0\n",
    "\n",
    "Example 2:\n",
    "Homer: Age = 68, Years at Power Plant = 30 and Actual Work Hours = 15\n",
    "Mr. Burns: Age = 97, Years at Power Plant = 36 and Actual Work Hours = 0\n",
    "\n",
    "<h4 style=\"color:blue\"> Write Your Code Below: </h4>"
   ]
  },
  {
   "cell_type": "code",
   "execution_count": null,
   "id": "ffc46414-87a8-4f15-baa4-e44d5cb20a5a",
   "metadata": {},
   "outputs": [],
   "source": []
  },
  {
   "cell_type": "markdown",
   "id": "b8510d1f-0549-4b6f-8821-b7f04b762d82",
   "metadata": {},
   "source": [
    "<h3 style=\"color:teal\"> Expected Output: </h3>"
   ]
  },
  {
   "cell_type": "code",
   "execution_count": 2,
   "id": "5c0edbd2-faed-400c-86c9-fa33c9be3502",
   "metadata": {},
   "outputs": [
    {
     "name": "stdout",
     "output_type": "stream",
     "text": [
      "Example 1: d(Homer, Mr. Burns): 950000\n",
      "Example 2: d(Homer, Mr. Burns): 33\n"
     ]
    }
   ],
   "source": []
  },
  {
   "cell_type": "markdown",
   "id": "f1f52312-6c56-4d06-b3d9-6aba7a6ff594",
   "metadata": {},
   "source": [
    "**Create a dataframe for the Simpsons characters**\n",
    "\n",
    "<h4 style=\"color:blue\"> Write Your Code Below: </h4>"
   ]
  },
  {
   "cell_type": "code",
   "execution_count": null,
   "id": "c5891f39-5673-4a1b-876f-bee98a111c7e",
   "metadata": {},
   "outputs": [],
   "source": []
  },
  {
   "cell_type": "markdown",
   "id": "b9c3da29-4c01-4f73-8d72-b760724c7da2",
   "metadata": {},
   "source": [
    "<h3 style=\"color:teal\"> Expected Output: </h3>"
   ]
  },
  {
   "cell_type": "code",
   "execution_count": 3,
   "id": "a1a87b61-5cae-4041-a3a5-9365057e0bec",
   "metadata": {},
   "outputs": [
    {
     "data": {
      "text/html": [
       "<div>\n",
       "<style scoped>\n",
       "    .dataframe tbody tr th:only-of-type {\n",
       "        vertical-align: middle;\n",
       "    }\n",
       "\n",
       "    .dataframe tbody tr th {\n",
       "        vertical-align: top;\n",
       "    }\n",
       "\n",
       "    .dataframe thead th {\n",
       "        text-align: right;\n",
       "    }\n",
       "</style>\n",
       "<table border=\"1\" class=\"dataframe\">\n",
       "  <thead>\n",
       "    <tr style=\"text-align: right;\">\n",
       "      <th></th>\n",
       "      <th>Age</th>\n",
       "      <th>Income</th>\n",
       "    </tr>\n",
       "  </thead>\n",
       "  <tbody>\n",
       "    <tr>\n",
       "      <th>Homer</th>\n",
       "      <td>0.694</td>\n",
       "      <td>0.050</td>\n",
       "    </tr>\n",
       "    <tr>\n",
       "      <th>Seymour</th>\n",
       "      <td>0.500</td>\n",
       "      <td>0.040</td>\n",
       "    </tr>\n",
       "    <tr>\n",
       "      <th>Lenny</th>\n",
       "      <td>0.582</td>\n",
       "      <td>0.054</td>\n",
       "    </tr>\n",
       "    <tr>\n",
       "      <th>Carl</th>\n",
       "      <td>0.714</td>\n",
       "      <td>0.062</td>\n",
       "    </tr>\n",
       "    <tr>\n",
       "      <th>Edna</th>\n",
       "      <td>0.418</td>\n",
       "      <td>0.035</td>\n",
       "    </tr>\n",
       "    <tr>\n",
       "      <th>Otto</th>\n",
       "      <td>0.296</td>\n",
       "      <td>0.026</td>\n",
       "    </tr>\n",
       "  </tbody>\n",
       "</table>\n",
       "</div>"
      ],
      "text/plain": [
       "           Age  Income\n",
       "Homer    0.694   0.050\n",
       "Seymour  0.500   0.040\n",
       "Lenny    0.582   0.054\n",
       "Carl     0.714   0.062\n",
       "Edna     0.418   0.035\n",
       "Otto     0.296   0.026"
      ]
     },
     "execution_count": 3,
     "metadata": {},
     "output_type": "execute_result"
    }
   ],
   "source": [
    "data = {\n",
    "    \"Age\": [0.694, 0.50, 0.582, 0.714, 0.418, 0.296],\n",
    "    \"Income\": [0.05, 0.04, 0.054, 0.062, 0.035, 0.026]\n",
    "}\n",
    "index = [\"Homer\", \"Seymour\", \"Lenny\", \"Carl\", \"Edna\", \"Otto\"]\n",
    "df = pd.DataFrame(data, index=index)\n",
    "df"
   ]
  },
  {
   "cell_type": "markdown",
   "id": "c292cca2-153c-4009-a379-7b1b41649088",
   "metadata": {},
   "source": [
    "**Display centroids for each iteration**\n",
    "\n",
    "<h4 style=\"color:blue\"> Write Your Code Below: </h4>"
   ]
  },
  {
   "cell_type": "code",
   "execution_count": null,
   "id": "de5195cf-231b-4ede-aa81-22917a203967",
   "metadata": {},
   "outputs": [],
   "source": []
  },
  {
   "cell_type": "markdown",
   "id": "21ea669f-b299-4a45-85a8-eb4fd0c4a101",
   "metadata": {},
   "source": [
    "<h3 style=\"color:teal\"> Expected Output: </h3>"
   ]
  },
  {
   "cell_type": "code",
   "execution_count": 4,
   "id": "242001da-e3a8-4a7a-bbce-8ead2144ef97",
   "metadata": {},
   "outputs": [
    {
     "name": "stdout",
     "output_type": "stream",
     "text": [
      "iter: 1 - first: [0.449   0.03875], second: [0.704 0.056]\n",
      "iter: 2 - first: [0.40466667 0.03366667], second: [0.66333333 0.05533333]\n",
      "iter: 3 - first: [0.40466667 0.03366667], second: [0.66333333 0.05533333]\n"
     ]
    }
   ],
   "source": []
  },
  {
   "cell_type": "markdown",
   "id": "303b5e3c-0f19-4be3-889c-b3a0b64cf063",
   "metadata": {},
   "source": [
    "**Run cluster analysis**\n",
    "\n",
    "<h4 style=\"color:blue\"> Write Your Code Below: </h4>"
   ]
  },
  {
   "cell_type": "code",
   "execution_count": null,
   "id": "5a4476e8-42d1-4aa6-a75e-af0e5737190c",
   "metadata": {},
   "outputs": [],
   "source": []
  },
  {
   "cell_type": "markdown",
   "id": "bc46b613-3475-43cf-9d5c-bebba141068a",
   "metadata": {},
   "source": [
    "<h3 style=\"color:teal\"> Expected Output: </h3>"
   ]
  },
  {
   "cell_type": "code",
   "execution_count": 5,
   "id": "04aa2d99-4a3a-4319-9e4c-69d1e2e3ee67",
   "metadata": {},
   "outputs": [
    {
     "name": "stdout",
     "output_type": "stream",
     "text": [
      "Number of iterations: 3\n"
     ]
    },
    {
     "data": {
      "text/html": [
       "<div>\n",
       "<style scoped>\n",
       "    .dataframe tbody tr th:only-of-type {\n",
       "        vertical-align: middle;\n",
       "    }\n",
       "\n",
       "    .dataframe tbody tr th {\n",
       "        vertical-align: top;\n",
       "    }\n",
       "\n",
       "    .dataframe thead th {\n",
       "        text-align: right;\n",
       "    }\n",
       "</style>\n",
       "<table border=\"1\" class=\"dataframe\">\n",
       "  <thead>\n",
       "    <tr style=\"text-align: right;\">\n",
       "      <th></th>\n",
       "      <th>Age</th>\n",
       "      <th>Income</th>\n",
       "      <th>Cluster</th>\n",
       "    </tr>\n",
       "  </thead>\n",
       "  <tbody>\n",
       "    <tr>\n",
       "      <th>Homer</th>\n",
       "      <td>0.694</td>\n",
       "      <td>0.050</td>\n",
       "      <td>1</td>\n",
       "    </tr>\n",
       "    <tr>\n",
       "      <th>Seymour</th>\n",
       "      <td>0.500</td>\n",
       "      <td>0.040</td>\n",
       "      <td>0</td>\n",
       "    </tr>\n",
       "    <tr>\n",
       "      <th>Lenny</th>\n",
       "      <td>0.582</td>\n",
       "      <td>0.054</td>\n",
       "      <td>1</td>\n",
       "    </tr>\n",
       "    <tr>\n",
       "      <th>Carl</th>\n",
       "      <td>0.714</td>\n",
       "      <td>0.062</td>\n",
       "      <td>1</td>\n",
       "    </tr>\n",
       "    <tr>\n",
       "      <th>Edna</th>\n",
       "      <td>0.418</td>\n",
       "      <td>0.035</td>\n",
       "      <td>0</td>\n",
       "    </tr>\n",
       "    <tr>\n",
       "      <th>Otto</th>\n",
       "      <td>0.296</td>\n",
       "      <td>0.026</td>\n",
       "      <td>0</td>\n",
       "    </tr>\n",
       "  </tbody>\n",
       "</table>\n",
       "</div>"
      ],
      "text/plain": [
       "           Age  Income  Cluster\n",
       "Homer    0.694   0.050        1\n",
       "Seymour  0.500   0.040        0\n",
       "Lenny    0.582   0.054        1\n",
       "Carl     0.714   0.062        1\n",
       "Edna     0.418   0.035        0\n",
       "Otto     0.296   0.026        0"
      ]
     },
     "execution_count": 5,
     "metadata": {},
     "output_type": "execute_result"
    }
   ],
   "source": []
  },
  {
   "cell_type": "markdown",
   "id": "c3137ed9-892e-4e2a-9e9a-0db39e2465cf",
   "metadata": {},
   "source": [
    "### 15.2 Pharmaceutical Industry.\n",
    "\n",
    "An equities analyst is studying the pharmaceutical industry and would like your help in exploring and\n",
    "understanding the financial data collected by her firm. Her main objective is to understand the structure of the pharmaceutical industry using some basic financial measures.\n",
    "\n",
    "Financial data gathered on 21 firms in the pharmaceutical industry are available in the file _Pharmaceuticals.csv_. For each firm, the following variables are recorded:\n",
    "\n",
    "1. Market capitalization (in billions of dollars)\n",
    "2. Beta\n",
    "3. Price/earnings ratio\n",
    "4. Return on equity\n",
    "5. Return on assets\n",
    "6. Asset turnover\n",
    "7. Leverage\n",
    "8. Estimated revenue growth\n",
    "9. Net profit margin\n",
    "10. Median recommendation (across major brokerages)\n",
    "11. Location of firm's headquarters\n",
    "12. Stock exchange on which the firm is listed\n",
    "\n",
    "Use cluster analysis to explore and analyze the given dataset.\n",
    "\n",
    "**Read in data from `Pharmaceuticals.csv` file.**\n",
    "\n",
    "Set the Symbol as the index.\n",
    "\n",
    "<h4 style=\"color:blue\"> Write Your Code Below: </h4>"
   ]
  },
  {
   "cell_type": "code",
   "execution_count": null,
   "id": "74397058-aadd-4c21-a1d9-860f6921686a",
   "metadata": {},
   "outputs": [],
   "source": []
  },
  {
   "cell_type": "markdown",
   "id": "da73957f-806c-47fa-8cbf-ab552434c2d7",
   "metadata": {},
   "source": [
    "<h3 style=\"color:teal\"> Expected Output: </h3>"
   ]
  },
  {
   "cell_type": "code",
   "execution_count": 6,
   "id": "8bd69b57-c782-444a-87c4-02ac22cef367",
   "metadata": {},
   "outputs": [
    {
     "data": {
      "text/html": [
       "<div>\n",
       "<style scoped>\n",
       "    .dataframe tbody tr th:only-of-type {\n",
       "        vertical-align: middle;\n",
       "    }\n",
       "\n",
       "    .dataframe tbody tr th {\n",
       "        vertical-align: top;\n",
       "    }\n",
       "\n",
       "    .dataframe thead th {\n",
       "        text-align: right;\n",
       "    }\n",
       "</style>\n",
       "<table border=\"1\" class=\"dataframe\">\n",
       "  <thead>\n",
       "    <tr style=\"text-align: right;\">\n",
       "      <th></th>\n",
       "      <th>Name</th>\n",
       "      <th>Market_Cap</th>\n",
       "      <th>Beta</th>\n",
       "      <th>PE_Ratio</th>\n",
       "      <th>ROE</th>\n",
       "      <th>ROA</th>\n",
       "      <th>Asset_Turnover</th>\n",
       "      <th>Leverage</th>\n",
       "      <th>Rev_Growth</th>\n",
       "      <th>Net_Profit_Margin</th>\n",
       "      <th>Median_Recommendation</th>\n",
       "      <th>Location</th>\n",
       "      <th>Exchange</th>\n",
       "    </tr>\n",
       "    <tr>\n",
       "      <th>Symbol</th>\n",
       "      <th></th>\n",
       "      <th></th>\n",
       "      <th></th>\n",
       "      <th></th>\n",
       "      <th></th>\n",
       "      <th></th>\n",
       "      <th></th>\n",
       "      <th></th>\n",
       "      <th></th>\n",
       "      <th></th>\n",
       "      <th></th>\n",
       "      <th></th>\n",
       "      <th></th>\n",
       "    </tr>\n",
       "  </thead>\n",
       "  <tbody>\n",
       "    <tr>\n",
       "      <th>ABT</th>\n",
       "      <td>Abbott Laboratories</td>\n",
       "      <td>68.44</td>\n",
       "      <td>0.32</td>\n",
       "      <td>24.7</td>\n",
       "      <td>26.4</td>\n",
       "      <td>11.8</td>\n",
       "      <td>0.7</td>\n",
       "      <td>0.42</td>\n",
       "      <td>7.54</td>\n",
       "      <td>16.1</td>\n",
       "      <td>Moderate Buy</td>\n",
       "      <td>US</td>\n",
       "      <td>NYSE</td>\n",
       "    </tr>\n",
       "    <tr>\n",
       "      <th>AGN</th>\n",
       "      <td>Allergan, Inc.</td>\n",
       "      <td>7.58</td>\n",
       "      <td>0.41</td>\n",
       "      <td>82.5</td>\n",
       "      <td>12.9</td>\n",
       "      <td>5.5</td>\n",
       "      <td>0.9</td>\n",
       "      <td>0.60</td>\n",
       "      <td>9.16</td>\n",
       "      <td>5.5</td>\n",
       "      <td>Moderate Buy</td>\n",
       "      <td>CANADA</td>\n",
       "      <td>NYSE</td>\n",
       "    </tr>\n",
       "    <tr>\n",
       "      <th>AHM</th>\n",
       "      <td>Amersham plc</td>\n",
       "      <td>6.30</td>\n",
       "      <td>0.46</td>\n",
       "      <td>20.7</td>\n",
       "      <td>14.9</td>\n",
       "      <td>7.8</td>\n",
       "      <td>0.9</td>\n",
       "      <td>0.27</td>\n",
       "      <td>7.05</td>\n",
       "      <td>11.2</td>\n",
       "      <td>Strong Buy</td>\n",
       "      <td>UK</td>\n",
       "      <td>NYSE</td>\n",
       "    </tr>\n",
       "    <tr>\n",
       "      <th>AZN</th>\n",
       "      <td>AstraZeneca PLC</td>\n",
       "      <td>67.63</td>\n",
       "      <td>0.52</td>\n",
       "      <td>21.5</td>\n",
       "      <td>27.4</td>\n",
       "      <td>15.4</td>\n",
       "      <td>0.9</td>\n",
       "      <td>0.00</td>\n",
       "      <td>15.00</td>\n",
       "      <td>18.0</td>\n",
       "      <td>Moderate Sell</td>\n",
       "      <td>UK</td>\n",
       "      <td>NYSE</td>\n",
       "    </tr>\n",
       "    <tr>\n",
       "      <th>AVE</th>\n",
       "      <td>Aventis</td>\n",
       "      <td>47.16</td>\n",
       "      <td>0.32</td>\n",
       "      <td>20.1</td>\n",
       "      <td>21.8</td>\n",
       "      <td>7.5</td>\n",
       "      <td>0.6</td>\n",
       "      <td>0.34</td>\n",
       "      <td>26.81</td>\n",
       "      <td>12.9</td>\n",
       "      <td>Moderate Buy</td>\n",
       "      <td>FRANCE</td>\n",
       "      <td>NYSE</td>\n",
       "    </tr>\n",
       "  </tbody>\n",
       "</table>\n",
       "</div>"
      ],
      "text/plain": [
       "                       Name  Market_Cap  Beta  PE_Ratio   ROE   ROA  \\\n",
       "Symbol                                                                \n",
       "ABT     Abbott Laboratories       68.44  0.32      24.7  26.4  11.8   \n",
       "AGN          Allergan, Inc.        7.58  0.41      82.5  12.9   5.5   \n",
       "AHM            Amersham plc        6.30  0.46      20.7  14.9   7.8   \n",
       "AZN         AstraZeneca PLC       67.63  0.52      21.5  27.4  15.4   \n",
       "AVE                 Aventis       47.16  0.32      20.1  21.8   7.5   \n",
       "\n",
       "        Asset_Turnover  Leverage  Rev_Growth  Net_Profit_Margin  \\\n",
       "Symbol                                                            \n",
       "ABT                0.7      0.42        7.54               16.1   \n",
       "AGN                0.9      0.60        9.16                5.5   \n",
       "AHM                0.9      0.27        7.05               11.2   \n",
       "AZN                0.9      0.00       15.00               18.0   \n",
       "AVE                0.6      0.34       26.81               12.9   \n",
       "\n",
       "       Median_Recommendation Location Exchange  \n",
       "Symbol                                          \n",
       "ABT             Moderate Buy       US     NYSE  \n",
       "AGN             Moderate Buy   CANADA     NYSE  \n",
       "AHM               Strong Buy       UK     NYSE  \n",
       "AZN            Moderate Sell       UK     NYSE  \n",
       "AVE             Moderate Buy   FRANCE     NYSE  "
      ]
     },
     "execution_count": 6,
     "metadata": {},
     "output_type": "execute_result"
    }
   ],
   "source": []
  },
  {
   "cell_type": "markdown",
   "id": "64ec62b8-5e7f-41e8-ab80-5002d9dcffac",
   "metadata": {},
   "source": [
    "**Drop the Name, Median_Recommendation, Location, and Exchange columns.**\n",
    "\n",
    "<h4 style=\"color:blue\"> Write Your Code Below: </h4>"
   ]
  },
  {
   "cell_type": "code",
   "execution_count": null,
   "id": "3cddb8c6-f66e-480f-93b6-a296cd7bf861",
   "metadata": {},
   "outputs": [],
   "source": []
  },
  {
   "cell_type": "markdown",
   "id": "09333090-82a1-47c5-a42c-2a76889339ea",
   "metadata": {},
   "source": [
    "<h3 style=\"color:teal\"> Expected Output: </h3>"
   ]
  },
  {
   "cell_type": "code",
   "execution_count": 7,
   "id": "ab32548a-8c97-4e40-b46d-f6a7a40bcf40",
   "metadata": {},
   "outputs": [
    {
     "data": {
      "text/html": [
       "<div>\n",
       "<style scoped>\n",
       "    .dataframe tbody tr th:only-of-type {\n",
       "        vertical-align: middle;\n",
       "    }\n",
       "\n",
       "    .dataframe tbody tr th {\n",
       "        vertical-align: top;\n",
       "    }\n",
       "\n",
       "    .dataframe thead th {\n",
       "        text-align: right;\n",
       "    }\n",
       "</style>\n",
       "<table border=\"1\" class=\"dataframe\">\n",
       "  <thead>\n",
       "    <tr style=\"text-align: right;\">\n",
       "      <th></th>\n",
       "      <th>Market_Cap</th>\n",
       "      <th>Beta</th>\n",
       "      <th>PE_Ratio</th>\n",
       "      <th>ROE</th>\n",
       "      <th>ROA</th>\n",
       "      <th>Asset_Turnover</th>\n",
       "      <th>Leverage</th>\n",
       "      <th>Rev_Growth</th>\n",
       "      <th>Net_Profit_Margin</th>\n",
       "    </tr>\n",
       "    <tr>\n",
       "      <th>Symbol</th>\n",
       "      <th></th>\n",
       "      <th></th>\n",
       "      <th></th>\n",
       "      <th></th>\n",
       "      <th></th>\n",
       "      <th></th>\n",
       "      <th></th>\n",
       "      <th></th>\n",
       "      <th></th>\n",
       "    </tr>\n",
       "  </thead>\n",
       "  <tbody>\n",
       "    <tr>\n",
       "      <th>ABT</th>\n",
       "      <td>68.44</td>\n",
       "      <td>0.32</td>\n",
       "      <td>24.7</td>\n",
       "      <td>26.4</td>\n",
       "      <td>11.8</td>\n",
       "      <td>0.7</td>\n",
       "      <td>0.42</td>\n",
       "      <td>7.54</td>\n",
       "      <td>16.1</td>\n",
       "    </tr>\n",
       "    <tr>\n",
       "      <th>AGN</th>\n",
       "      <td>7.58</td>\n",
       "      <td>0.41</td>\n",
       "      <td>82.5</td>\n",
       "      <td>12.9</td>\n",
       "      <td>5.5</td>\n",
       "      <td>0.9</td>\n",
       "      <td>0.60</td>\n",
       "      <td>9.16</td>\n",
       "      <td>5.5</td>\n",
       "    </tr>\n",
       "    <tr>\n",
       "      <th>AHM</th>\n",
       "      <td>6.30</td>\n",
       "      <td>0.46</td>\n",
       "      <td>20.7</td>\n",
       "      <td>14.9</td>\n",
       "      <td>7.8</td>\n",
       "      <td>0.9</td>\n",
       "      <td>0.27</td>\n",
       "      <td>7.05</td>\n",
       "      <td>11.2</td>\n",
       "    </tr>\n",
       "    <tr>\n",
       "      <th>AZN</th>\n",
       "      <td>67.63</td>\n",
       "      <td>0.52</td>\n",
       "      <td>21.5</td>\n",
       "      <td>27.4</td>\n",
       "      <td>15.4</td>\n",
       "      <td>0.9</td>\n",
       "      <td>0.00</td>\n",
       "      <td>15.00</td>\n",
       "      <td>18.0</td>\n",
       "    </tr>\n",
       "    <tr>\n",
       "      <th>AVE</th>\n",
       "      <td>47.16</td>\n",
       "      <td>0.32</td>\n",
       "      <td>20.1</td>\n",
       "      <td>21.8</td>\n",
       "      <td>7.5</td>\n",
       "      <td>0.6</td>\n",
       "      <td>0.34</td>\n",
       "      <td>26.81</td>\n",
       "      <td>12.9</td>\n",
       "    </tr>\n",
       "  </tbody>\n",
       "</table>\n",
       "</div>"
      ],
      "text/plain": [
       "        Market_Cap  Beta  PE_Ratio   ROE   ROA  Asset_Turnover  Leverage  \\\n",
       "Symbol                                                                     \n",
       "ABT          68.44  0.32      24.7  26.4  11.8             0.7      0.42   \n",
       "AGN           7.58  0.41      82.5  12.9   5.5             0.9      0.60   \n",
       "AHM           6.30  0.46      20.7  14.9   7.8             0.9      0.27   \n",
       "AZN          67.63  0.52      21.5  27.4  15.4             0.9      0.00   \n",
       "AVE          47.16  0.32      20.1  21.8   7.5             0.6      0.34   \n",
       "\n",
       "        Rev_Growth  Net_Profit_Margin  \n",
       "Symbol                                 \n",
       "ABT           7.54               16.1  \n",
       "AGN           9.16                5.5  \n",
       "AHM           7.05               11.2  \n",
       "AZN          15.00               18.0  \n",
       "AVE          26.81               12.9  "
      ]
     },
     "execution_count": 7,
     "metadata": {},
     "output_type": "execute_result"
    }
   ],
   "source": []
  },
  {
   "cell_type": "markdown",
   "id": "c4ae5a7f-8fb1-4545-a7cd-9adc5c977f78",
   "metadata": {},
   "source": [
    "**Normalize the data.**\n",
    "\n",
    "<h4 style=\"color:blue\"> Write Your Code Below: </h4>"
   ]
  },
  {
   "cell_type": "code",
   "execution_count": null,
   "id": "29808abe-6829-42f4-98de-0f981a1b682b",
   "metadata": {},
   "outputs": [],
   "source": []
  },
  {
   "cell_type": "markdown",
   "id": "b1574cbb-e6d4-4b1f-a64c-4fa8d183d40d",
   "metadata": {},
   "source": [
    "<h3 style=\"color:teal\"> Expected Output: </h3>"
   ]
  },
  {
   "cell_type": "code",
   "execution_count": 8,
   "id": "9f261f1a-e87c-4969-aa16-981c704c33e1",
   "metadata": {},
   "outputs": [
    {
     "data": {
      "text/html": [
       "<div>\n",
       "<style scoped>\n",
       "    .dataframe tbody tr th:only-of-type {\n",
       "        vertical-align: middle;\n",
       "    }\n",
       "\n",
       "    .dataframe tbody tr th {\n",
       "        vertical-align: top;\n",
       "    }\n",
       "\n",
       "    .dataframe thead th {\n",
       "        text-align: right;\n",
       "    }\n",
       "</style>\n",
       "<table border=\"1\" class=\"dataframe\">\n",
       "  <thead>\n",
       "    <tr style=\"text-align: right;\">\n",
       "      <th></th>\n",
       "      <th>Market_Cap</th>\n",
       "      <th>Beta</th>\n",
       "      <th>PE_Ratio</th>\n",
       "      <th>ROE</th>\n",
       "      <th>ROA</th>\n",
       "      <th>Asset_Turnover</th>\n",
       "      <th>Leverage</th>\n",
       "      <th>Rev_Growth</th>\n",
       "      <th>Net_Profit_Margin</th>\n",
       "    </tr>\n",
       "    <tr>\n",
       "      <th>Symbol</th>\n",
       "      <th></th>\n",
       "      <th></th>\n",
       "      <th></th>\n",
       "      <th></th>\n",
       "      <th></th>\n",
       "      <th></th>\n",
       "      <th></th>\n",
       "      <th></th>\n",
       "      <th></th>\n",
       "    </tr>\n",
       "  </thead>\n",
       "  <tbody>\n",
       "    <tr>\n",
       "      <th>ABT</th>\n",
       "      <td>0.188642</td>\n",
       "      <td>-0.821041</td>\n",
       "      <td>-0.047867</td>\n",
       "      <td>0.041080</td>\n",
       "      <td>0.247579</td>\n",
       "      <td>-5.247542e-16</td>\n",
       "      <td>-0.217336</td>\n",
       "      <td>-0.540801</td>\n",
       "      <td>0.063205</td>\n",
       "    </tr>\n",
       "    <tr>\n",
       "      <th>AGN</th>\n",
       "      <td>-0.875518</td>\n",
       "      <td>-0.461835</td>\n",
       "      <td>3.583430</td>\n",
       "      <td>-0.875950</td>\n",
       "      <td>-0.965557</td>\n",
       "      <td>9.453132e-01</td>\n",
       "      <td>0.018736</td>\n",
       "      <td>-0.390551</td>\n",
       "      <td>-1.592035</td>\n",
       "    </tr>\n",
       "    <tr>\n",
       "      <th>AHM</th>\n",
       "      <td>-0.897899</td>\n",
       "      <td>-0.262277</td>\n",
       "      <td>-0.299168</td>\n",
       "      <td>-0.740094</td>\n",
       "      <td>-0.522666</td>\n",
       "      <td>9.453132e-01</td>\n",
       "      <td>-0.414062</td>\n",
       "      <td>-0.586247</td>\n",
       "      <td>-0.701953</td>\n",
       "    </tr>\n",
       "    <tr>\n",
       "      <th>AZN</th>\n",
       "      <td>0.174479</td>\n",
       "      <td>-0.022807</td>\n",
       "      <td>-0.248907</td>\n",
       "      <td>0.109009</td>\n",
       "      <td>0.940799</td>\n",
       "      <td>9.453132e-01</td>\n",
       "      <td>-0.768169</td>\n",
       "      <td>0.151089</td>\n",
       "      <td>0.359900</td>\n",
       "    </tr>\n",
       "    <tr>\n",
       "      <th>AVE</th>\n",
       "      <td>-0.183447</td>\n",
       "      <td>-0.821041</td>\n",
       "      <td>-0.336863</td>\n",
       "      <td>-0.271389</td>\n",
       "      <td>-0.580435</td>\n",
       "      <td>-4.726566e-01</td>\n",
       "      <td>-0.322256</td>\n",
       "      <td>1.246425</td>\n",
       "      <td>-0.436490</td>\n",
       "    </tr>\n",
       "  </tbody>\n",
       "</table>\n",
       "</div>"
      ],
      "text/plain": [
       "        Market_Cap      Beta  PE_Ratio       ROE       ROA  Asset_Turnover  \\\n",
       "Symbol                                                                       \n",
       "ABT       0.188642 -0.821041 -0.047867  0.041080  0.247579   -5.247542e-16   \n",
       "AGN      -0.875518 -0.461835  3.583430 -0.875950 -0.965557    9.453132e-01   \n",
       "AHM      -0.897899 -0.262277 -0.299168 -0.740094 -0.522666    9.453132e-01   \n",
       "AZN       0.174479 -0.022807 -0.248907  0.109009  0.940799    9.453132e-01   \n",
       "AVE      -0.183447 -0.821041 -0.336863 -0.271389 -0.580435   -4.726566e-01   \n",
       "\n",
       "        Leverage  Rev_Growth  Net_Profit_Margin  \n",
       "Symbol                                           \n",
       "ABT    -0.217336   -0.540801           0.063205  \n",
       "AGN     0.018736   -0.390551          -1.592035  \n",
       "AHM    -0.414062   -0.586247          -0.701953  \n",
       "AZN    -0.768169    0.151089           0.359900  \n",
       "AVE    -0.322256    1.246425          -0.436490  "
      ]
     },
     "execution_count": 8,
     "metadata": {},
     "output_type": "execute_result"
    }
   ],
   "source": []
  },
  {
   "cell_type": "markdown",
   "id": "6c5f3dc3-24c1-43b2-9516-cc6ca70e1487",
   "metadata": {},
   "source": [
    "#### Evaluate Different Values of k.\n",
    "\n",
    "Helper function provided to create an elbow chart."
   ]
  },
  {
   "cell_type": "code",
   "execution_count": 9,
   "id": "acbfd89f-a4c4-43f5-bee2-bbf83465e090",
   "metadata": {},
   "outputs": [],
   "source": [
    "def create_elbow_chart(range_n_clusters, params, data):\n",
    "    inertia = []   \n",
    "    for n_clusters in range_n_clusters: \n",
    "        kmeans = KMeans(n_clusters=n_clusters, \n",
    "                        init=params['init'], \n",
    "                        max_iter=params['max_iter'], \n",
    "                        n_init=params['n_init'], \n",
    "                        random_state=SEED).fit(data) \n",
    "        # Average SS per cluster\n",
    "        inertia.append(kmeans.inertia_ / n_clusters) \n",
    "    inertias = pd.DataFrame({'n_clusters': range_n_clusters, 'inertia': inertia}) \n",
    "    ax = inertias.plot(x='n_clusters', y='inertia')\n",
    "    plt.xlabel('Number of clusters (k)') \n",
    "    plt.ylabel('Average Within-Cluster Squared Distances') \n",
    "    plt.ylim((0, 1.1 * inertias.inertia.max())) \n",
    "    ax.legend().set_visible(False)\n",
    "    return inertias"
   ]
  },
  {
   "cell_type": "markdown",
   "id": "4b295968-f523-4f29-8c81-a982074c282b",
   "metadata": {},
   "source": [
    "**Create Elbow Chart**\n",
    "\n",
    "Go to the documentation page for kMeans [here](https://scikit-learn.org/1.5/modules/generated/sklearn.cluster.KMeans.html) and review the options and default values for:\n",
    "\n",
    "- init\n",
    "- n_init\n",
    "- max_iter\n",
    "\n",
    "Experiment with different parameters and observe how initial centroid placement impacts the output.\n",
    "\n",
    "<h4 style=\"color:blue\"> Write Your Code Below: </h4>"
   ]
  },
  {
   "cell_type": "code",
   "execution_count": null,
   "id": "dec49790-ec98-4135-9653-09bdd9dfea30",
   "metadata": {},
   "outputs": [],
   "source": []
  },
  {
   "cell_type": "markdown",
   "id": "df3bf436-ccc4-4605-92e0-dc160c60cc33",
   "metadata": {},
   "source": [
    "<h3 style=\"color:teal\"> Expected Output: </h3>"
   ]
  },
  {
   "cell_type": "code",
   "execution_count": 10,
   "id": "fccf3fd9-5cc4-4c1b-8db2-bf4939c4b66f",
   "metadata": {},
   "outputs": [
    {
     "data": {
      "image/png": "[encoded data removed]",
      "text/plain": [
       "<Figure size 640x480 with 1 Axes>"
      ]
     },
     "metadata": {},
     "output_type": "display_data"
    }
   ],
   "source": []
  },
  {
   "cell_type": "markdown",
   "id": "cbefe6c1-aa14-4601-834e-b6436ce492ac",
   "metadata": {},
   "source": [
    "**Plot Silhouette Scores**\n",
    "\n",
    "Helper function provided."
   ]
  },
  {
   "cell_type": "code",
   "execution_count": 11,
   "id": "c1df38ef-a0bc-429d-985d-c439e04eb027",
   "metadata": {},
   "outputs": [],
   "source": [
    "def plot_silhouette_scores(range_n_clusters, params, data):\n",
    "    silhouette_scores = []  \n",
    "    for n_clusters in range_n_clusters:\n",
    "        kmeans = KMeans(n_clusters=n_clusters, \n",
    "                        init=params['init'], \n",
    "                        max_iter=params['max_iter'], \n",
    "                        n_init=params['n_init'], \n",
    "                        random_state=SEED).fit(data) \n",
    "        cluster_labels = kmeans.fit_predict(data)\n",
    "        silhouette_avg = silhouette_score(data, cluster_labels)\n",
    "        silhouette_scores.append(silhouette_avg)       \n",
    "    plt.plot(range_n_clusters, silhouette_scores)\n",
    "    plt.xlabel('Number of Clusters (k)')\n",
    "    plt.ylabel(\"Avg Silhouette Score\")"
   ]
  },
  {
   "cell_type": "markdown",
   "id": "3f5888ce-25a1-40c2-a87f-a0309c639443",
   "metadata": {},
   "source": [
    "<h4 style=\"color:blue\"> Write Your Code Below: </h4>"
   ]
  },
  {
   "cell_type": "code",
   "execution_count": null,
   "id": "6c71939b-d76b-4c7d-95da-22a8dba3c794",
   "metadata": {},
   "outputs": [],
   "source": []
  },
  {
   "cell_type": "markdown",
   "id": "42d91309-fcb2-481e-ae74-2b4345927daa",
   "metadata": {},
   "source": [
    "<h3 style=\"color:teal\"> Expected Output: </h3>"
   ]
  },
  {
   "cell_type": "code",
   "execution_count": 12,
   "id": "87f4d2ec-c898-4418-82f4-b3527efe17c0",
   "metadata": {},
   "outputs": [
    {
     "data": {
      "image/png": "[encoded data removed]",
      "text/plain": [
       "<Figure size 640x480 with 1 Axes>"
      ]
     },
     "metadata": {},
     "output_type": "display_data"
    }
   ],
   "source": []
  },
  {
   "cell_type": "markdown",
   "id": "3a29a157-e31f-4eb0-91b6-749b0ecf50d7",
   "metadata": {},
   "source": [
    "**Create Profile Plot**\n",
    "\n",
    "Helper function provided to create a profile plot."
   ]
  },
  {
   "cell_type": "code",
   "execution_count": 13,
   "id": "843d21b8-647f-4d3b-bc8b-bf20de526e8a",
   "metadata": {},
   "outputs": [],
   "source": [
    "def create_profile_chart(params, data, ax):\n",
    "    kmeans = KMeans(n_clusters=params['k'],\n",
    "                    init=params['init'], \n",
    "                    max_iter=params['max_iter'], \n",
    "                    n_init=params['n_init'], \n",
    "                    random_state=SEED).fit(data) \n",
    "    centroids = pd.DataFrame(kmeans.cluster_centers_, columns=data.columns)\n",
    "    centroids['cluster'] = ['Cluster {}'.format(i) for i in centroids.index]\n",
    "    parallel_coordinates(centroids, class_column='cluster', colormap='Dark2', linewidth=5, ax=ax)\n",
    "    plt.xlim(-0.5,len(data.columns)-0.5)\n",
    "    plt.legend(loc='best')"
   ]
  },
  {
   "cell_type": "markdown",
   "id": "c9db5be9-cd67-4d77-a472-3757ba88ab07",
   "metadata": {},
   "source": [
    "<h4 style=\"color:blue\"> Write Your Code Below: </h4>"
   ]
  },
  {
   "cell_type": "code",
   "execution_count": null,
   "id": "ac98a1f0-7820-47fe-abdf-cdcc6fda2766",
   "metadata": {},
   "outputs": [],
   "source": []
  },
  {
   "cell_type": "markdown",
   "id": "c69138b3-a4fb-4214-9418-c65a825123f4",
   "metadata": {},
   "source": [
    "<h3 style=\"color:teal\"> Expected Output: </h3>"
   ]
  },
  {
   "cell_type": "code",
   "execution_count": 14,
   "id": "4c934573-6c76-46a8-923c-941f9c30aee9",
   "metadata": {},
   "outputs": [
    {
     "data": {
      "image/png": "[encoded data removed]",
      "text/plain": [
       "<Figure size 1500x500 with 1 Axes>"
      ]
     },
     "metadata": {},
     "output_type": "display_data"
    }
   ],
   "source": []
  },
  {
   "cell_type": "markdown",
   "id": "b838e7c6-c273-49bd-81df-b1c7d3eef016",
   "metadata": {},
   "source": [
    "**Use PCA to Visualize Clusters**\n",
    "\n",
    "Principal Component Analysis (PCA) is a powerful technique that helps visualize high-dimensional data by reducing it to 2D or 3D representations while preserving as much variance as possible. When performing k-Means clustering, PCA can be used to project the clustered data into a lower-dimensional space, making it easier to see patterns and assess the effectiveness of the clustering.\n",
    "\n",
    "By applying PCA, we can:\n",
    "- Observe Cluster Separation – Determine if clusters are well-separated or overlapping.\n",
    "- Validate the Number of Clusters – Identify if the chosen K value aligns with natural groupings in the data.\n",
    "- Improve Interpretability – Understand how data points relate to each other in reduced dimensions.\n",
    "\n",
    "While PCA simplifies visualization, it should be used with caution as some information may be lost in dimensionality reduction.\n",
    "\n",
    "Helper function provided to create a profile plot.\n",
    "\n",
    "<h4 style=\"color:blue\"> Write Your Code Below: </h4>"
   ]
  },
  {
   "cell_type": "code",
   "execution_count": 15,
   "id": "1d3114b9-8a3c-4080-adbc-88625b02ee27",
   "metadata": {},
   "outputs": [],
   "source": [
    "def visualize_clusters_pca(params, data):\n",
    "    kmeans = KMeans(n_clusters=params['k'],\n",
    "                    init=params['init'], \n",
    "                    max_iter=params['max_iter'], \n",
    "                    n_init=params['n_init'], \n",
    "                    random_state=SEED).fit(data) \n",
    "    \n",
    "    cluster_assignments = kmeans.fit_predict(data)\n",
    "    \n",
    "    colors = cm.Set1(np.linspace(0, 1, params['k']))\n",
    "    cmap = matplotlib.colors.ListedColormap(colors)\n",
    "    \n",
    "    pca = PCA(n_components=2)\n",
    "    pc1, pc2 = zip(*pca.fit_transform(data))\n",
    "    plt.scatter(pc1, pc2, c=cluster_assignments.tolist(), cmap=cmap)\n",
    "    plt.xlabel('PC1')\n",
    "    plt.ylabel('PC2')"
   ]
  },
  {
   "cell_type": "markdown",
   "id": "b78ef002-322c-441e-a71b-97aa65315580",
   "metadata": {},
   "source": [
    "<h4 style=\"color:blue\"> Write Your Code Below: </h4>"
   ]
  },
  {
   "cell_type": "code",
   "execution_count": null,
   "id": "fe616e51-de70-4789-b131-ca2fbf23cd2e",
   "metadata": {},
   "outputs": [],
   "source": []
  },
  {
   "cell_type": "markdown",
   "id": "636c2d07-4ff2-4d98-bbd9-9c6bb081aa48",
   "metadata": {},
   "source": [
    "<h3 style=\"color:teal\"> Expected Output: </h3>"
   ]
  },
  {
   "cell_type": "code",
   "execution_count": 16,
   "id": "18f5aa3f-b090-4adc-b133-5423b29d7ef4",
   "metadata": {},
   "outputs": [
    {
     "data": {
      "image/png": "[encoded data removed]",
      "text/plain": [
       "<Figure size 640x480 with 1 Axes>"
      ]
     },
     "metadata": {},
     "output_type": "display_data"
    }
   ],
   "source": []
  },
  {
   "cell_type": "markdown",
   "id": "b048d1c3-ef8a-42c4-81d2-4530cc935fb1",
   "metadata": {},
   "source": [
    "Two factors can help us decide how many clusters to form:\n",
    "\n",
    "1. The purpose of the inquiry. How many clusters are we going to want to \n",
    "   deal with?\n",
    "   In this case, to understand the structure of the industry in financial \n",
    "   terms we might use basic domain knowledge to consider that size and \n",
    "   financial performance are fundamental dimensions into which our various \n",
    "   metrics fall. To make sense of our analysis, we will need at least two \n",
    "   clusters, but more than 3 or 4 will probably defeat the purpose of \n",
    "   clustering, which is to simplify matters (at least for the purposes of\n",
    "   initial analysis).\n",
    "\n",
    "2. How do the clusters look when trying 2, 3, 4, 5 clusters? Are they nicely \n",
    "   separated? Do they have enough members to be useful? Do they look like\n",
    "   natural clusters (as opposed to arbitrary decisions about cluster \n",
    "   membership)?\n",
    "   Normalizing the data is important to ensure that the \"distance measured\" \n",
    "   accords equal weight to each variable. Without normalization, the variable\n",
    "   with the largest scale will dominate the measure. "
   ]
  },
  {
   "cell_type": "markdown",
   "id": "615d338d-a25a-48ce-ba61-41fc172f3c2b",
   "metadata": {},
   "source": [
    "### 15.2.b\n",
    "Interpret the clusters with respect to the variables used in forming the clusters.\n",
    "\n",
    "**Be sure to rerun k-means model for the final desired parameters.**\n",
    "\n",
    "<h4 style=\"color:blue\"> Write Your Code Below: </h4>"
   ]
  },
  {
   "cell_type": "code",
   "execution_count": null,
   "id": "d2408c7b-f601-41ad-a723-20df18498e3f",
   "metadata": {},
   "outputs": [],
   "source": []
  },
  {
   "cell_type": "markdown",
   "id": "4f9aa444-81e5-4c57-a7be-0dd87c82ff09",
   "metadata": {},
   "source": [
    "<h3 style=\"color:teal\"> Expected Output: </h3>"
   ]
  },
  {
   "cell_type": "code",
   "execution_count": 17,
   "id": "556c1dc8-080a-4382-9a5e-4795cd498da7",
   "metadata": {},
   "outputs": [
    {
     "data": {
      "text/html": [
       "<div>\n",
       "<style scoped>\n",
       "    .dataframe tbody tr th:only-of-type {\n",
       "        vertical-align: middle;\n",
       "    }\n",
       "\n",
       "    .dataframe tbody tr th {\n",
       "        vertical-align: top;\n",
       "    }\n",
       "\n",
       "    .dataframe thead th {\n",
       "        text-align: right;\n",
       "    }\n",
       "</style>\n",
       "<table border=\"1\" class=\"dataframe\">\n",
       "  <thead>\n",
       "    <tr style=\"text-align: right;\">\n",
       "      <th></th>\n",
       "      <th>Market_Cap</th>\n",
       "      <th>Beta</th>\n",
       "      <th>PE_Ratio</th>\n",
       "      <th>ROE</th>\n",
       "      <th>ROA</th>\n",
       "      <th>Asset_Turnover</th>\n",
       "      <th>Leverage</th>\n",
       "      <th>Rev_Growth</th>\n",
       "      <th>Net_Profit_Margin</th>\n",
       "    </tr>\n",
       "  </thead>\n",
       "  <tbody>\n",
       "    <tr>\n",
       "      <th>Cluster 0</th>\n",
       "      <td>31.91</td>\n",
       "      <td>0.40</td>\n",
       "      <td>69.50</td>\n",
       "      <td>13.20</td>\n",
       "      <td>5.60</td>\n",
       "      <td>0.75</td>\n",
       "      <td>0.48</td>\n",
       "      <td>12.08</td>\n",
       "      <td>6.40</td>\n",
       "    </tr>\n",
       "    <tr>\n",
       "      <th>Cluster 1</th>\n",
       "      <td>9.83</td>\n",
       "      <td>0.68</td>\n",
       "      <td>20.65</td>\n",
       "      <td>15.32</td>\n",
       "      <td>5.64</td>\n",
       "      <td>0.55</td>\n",
       "      <td>0.97</td>\n",
       "      <td>18.10</td>\n",
       "      <td>11.86</td>\n",
       "    </tr>\n",
       "    <tr>\n",
       "      <th>Cluster 2</th>\n",
       "      <td>97.11</td>\n",
       "      <td>0.43</td>\n",
       "      <td>20.95</td>\n",
       "      <td>35.70</td>\n",
       "      <td>14.95</td>\n",
       "      <td>0.80</td>\n",
       "      <td>0.33</td>\n",
       "      <td>10.16</td>\n",
       "      <td>20.17</td>\n",
       "    </tr>\n",
       "  </tbody>\n",
       "</table>\n",
       "</div>"
      ],
      "text/plain": [
       "           Market_Cap  Beta  PE_Ratio    ROE    ROA  Asset_Turnover  Leverage  \\\n",
       "Cluster 0       31.91  0.40     69.50  13.20   5.60            0.75      0.48   \n",
       "Cluster 1        9.83  0.68     20.65  15.32   5.64            0.55      0.97   \n",
       "Cluster 2       97.11  0.43     20.95  35.70  14.95            0.80      0.33   \n",
       "\n",
       "           Rev_Growth  Net_Profit_Margin  \n",
       "Cluster 0       12.08               6.40  \n",
       "Cluster 1       18.10              11.86  \n",
       "Cluster 2       10.16              20.17  "
      ]
     },
     "execution_count": 17,
     "metadata": {},
     "output_type": "execute_result"
    }
   ],
   "source": []
  },
  {
   "cell_type": "markdown",
   "id": "2755dec8-1e51-4e41-849c-9cb35facfb68",
   "metadata": {},
   "source": [
    "Some observations are big companies, profitable, lower debit, and lower growth. Contrary, there are mid-sized companies with stronger price-earnings but not as porfitable. Finally, small companies that have strong revenue growth and heavily leveraged."
   ]
  },
  {
   "cell_type": "markdown",
   "id": "9e1b035c-fc52-427e-a225-e480a61bd573",
   "metadata": {},
   "source": [
    "### 15.2.c\n",
    "Is there a pattern in the clusters with respect to the numerical variables (10-12)? (those not used in forming the clusters).\n",
    "\n",
    "- Median_Recommendation\n",
    "- Location\n",
    "- Exchange\n",
    "\n",
    "Helper function provided to create a profile plot."
   ]
  },
  {
   "cell_type": "code",
   "execution_count": 18,
   "id": "48657d18-b564-44b0-bb23-c02a26975300",
   "metadata": {},
   "outputs": [],
   "source": [
    "def summarize_cat_col(col):\n",
    "    return pd.DataFrame(pd.Series(item[col].value_counts(), name=f'Cluster {key}') \n",
    "                        for key, item in pharma_df.groupby(cluster_assignments))"
   ]
  },
  {
   "cell_type": "markdown",
   "id": "ae3f7b6b-106c-4f48-91fc-71cbf75afeaa",
   "metadata": {},
   "source": [
    "<h4 style=\"color:blue\"> Write Your Code Below: </h4>"
   ]
  },
  {
   "cell_type": "code",
   "execution_count": null,
   "id": "96a644c9-58b4-483d-9857-0978d5f1a8f6",
   "metadata": {},
   "outputs": [],
   "source": []
  },
  {
   "cell_type": "markdown",
   "id": "2804ec17-6c47-4696-bbda-ec6d54ba1055",
   "metadata": {},
   "source": [
    "**Median_Recommendation**\n",
    "\n",
    "<h4 style=\"color:blue\"> Write Your Code Below: </h4>"
   ]
  },
  {
   "cell_type": "code",
   "execution_count": null,
   "id": "75351701-f240-4f65-93a6-4023a12fd32c",
   "metadata": {},
   "outputs": [],
   "source": []
  },
  {
   "cell_type": "markdown",
   "id": "6abeb5f8-e969-41f7-806d-a92b4fe9498a",
   "metadata": {},
   "source": [
    "<h3 style=\"color:teal\"> Expected Output: </h3>"
   ]
  },
  {
   "cell_type": "code",
   "execution_count": 19,
   "id": "19297e77-fa1d-4027-a256-84ec5aaffcb1",
   "metadata": {},
   "outputs": [
    {
     "data": {
      "text/html": [
       "<div>\n",
       "<style scoped>\n",
       "    .dataframe tbody tr th:only-of-type {\n",
       "        vertical-align: middle;\n",
       "    }\n",
       "\n",
       "    .dataframe tbody tr th {\n",
       "        vertical-align: top;\n",
       "    }\n",
       "\n",
       "    .dataframe thead th {\n",
       "        text-align: right;\n",
       "    }\n",
       "</style>\n",
       "<table border=\"1\" class=\"dataframe\">\n",
       "  <thead>\n",
       "    <tr style=\"text-align: right;\">\n",
       "      <th>Median_Recommendation</th>\n",
       "      <th>Moderate Buy</th>\n",
       "      <th>Hold</th>\n",
       "      <th>Moderate Sell</th>\n",
       "      <th>Strong Buy</th>\n",
       "    </tr>\n",
       "  </thead>\n",
       "  <tbody>\n",
       "    <tr>\n",
       "      <th>Cluster 0</th>\n",
       "      <td>1.0</td>\n",
       "      <td>1.0</td>\n",
       "      <td>NaN</td>\n",
       "      <td>NaN</td>\n",
       "    </tr>\n",
       "    <tr>\n",
       "      <th>Cluster 1</th>\n",
       "      <td>3.0</td>\n",
       "      <td>2.0</td>\n",
       "      <td>2.0</td>\n",
       "      <td>1.0</td>\n",
       "    </tr>\n",
       "    <tr>\n",
       "      <th>Cluster 2</th>\n",
       "      <td>3.0</td>\n",
       "      <td>6.0</td>\n",
       "      <td>2.0</td>\n",
       "      <td>NaN</td>\n",
       "    </tr>\n",
       "  </tbody>\n",
       "</table>\n",
       "</div>"
      ],
      "text/plain": [
       "Median_Recommendation  Moderate Buy  Hold  Moderate Sell  Strong Buy\n",
       "Cluster 0                       1.0   1.0            NaN         NaN\n",
       "Cluster 1                       3.0   2.0            2.0         1.0\n",
       "Cluster 2                       3.0   6.0            2.0         NaN"
      ]
     },
     "execution_count": 19,
     "metadata": {},
     "output_type": "execute_result"
    }
   ],
   "source": []
  },
  {
   "cell_type": "markdown",
   "id": "1bd63ba0-9036-4c8c-8282-79446ce492fe",
   "metadata": {},
   "source": [
    "With respect to buy/hold recommendations, some clusters are interesting characterized by mixed recommendations for each ranging from \"moderate sell\" to \"strong buy\"."
   ]
  },
  {
   "cell_type": "markdown",
   "id": "6033aab1-2b38-40a2-afa4-c62c318ba999",
   "metadata": {},
   "source": [
    "**Location**\n",
    "\n",
    "<h4 style=\"color:blue\"> Write Your Code Below: </h4>"
   ]
  },
  {
   "cell_type": "code",
   "execution_count": null,
   "id": "6df55592-4211-48c2-81e2-c573fced32fe",
   "metadata": {},
   "outputs": [],
   "source": []
  },
  {
   "cell_type": "markdown",
   "id": "f4ab51b7-be71-43a6-a403-b54ed9c429cf",
   "metadata": {},
   "source": [
    "<h3 style=\"color:teal\"> Expected Output: </h3>"
   ]
  },
  {
   "cell_type": "code",
   "execution_count": 20,
   "id": "756dcbf3-d47c-4d20-a8b3-9a46c2f2427d",
   "metadata": {},
   "outputs": [
    {
     "data": {
      "text/html": [
       "<div>\n",
       "<style scoped>\n",
       "    .dataframe tbody tr th:only-of-type {\n",
       "        vertical-align: middle;\n",
       "    }\n",
       "\n",
       "    .dataframe tbody tr th {\n",
       "        vertical-align: top;\n",
       "    }\n",
       "\n",
       "    .dataframe thead th {\n",
       "        text-align: right;\n",
       "    }\n",
       "</style>\n",
       "<table border=\"1\" class=\"dataframe\">\n",
       "  <thead>\n",
       "    <tr style=\"text-align: right;\">\n",
       "      <th>Location</th>\n",
       "      <th>CANADA</th>\n",
       "      <th>US</th>\n",
       "      <th>UK</th>\n",
       "      <th>FRANCE</th>\n",
       "      <th>GERMANY</th>\n",
       "      <th>IRELAND</th>\n",
       "      <th>SWITZERLAND</th>\n",
       "    </tr>\n",
       "  </thead>\n",
       "  <tbody>\n",
       "    <tr>\n",
       "      <th>Cluster 0</th>\n",
       "      <td>1.0</td>\n",
       "      <td>1.0</td>\n",
       "      <td>NaN</td>\n",
       "      <td>NaN</td>\n",
       "      <td>NaN</td>\n",
       "      <td>NaN</td>\n",
       "      <td>NaN</td>\n",
       "    </tr>\n",
       "    <tr>\n",
       "      <th>Cluster 1</th>\n",
       "      <td>NaN</td>\n",
       "      <td>4.0</td>\n",
       "      <td>1.0</td>\n",
       "      <td>1.0</td>\n",
       "      <td>1.0</td>\n",
       "      <td>1.0</td>\n",
       "      <td>NaN</td>\n",
       "    </tr>\n",
       "    <tr>\n",
       "      <th>Cluster 2</th>\n",
       "      <td>NaN</td>\n",
       "      <td>8.0</td>\n",
       "      <td>2.0</td>\n",
       "      <td>NaN</td>\n",
       "      <td>NaN</td>\n",
       "      <td>NaN</td>\n",
       "      <td>1.0</td>\n",
       "    </tr>\n",
       "  </tbody>\n",
       "</table>\n",
       "</div>"
      ],
      "text/plain": [
       "Location   CANADA   US   UK  FRANCE  GERMANY  IRELAND  SWITZERLAND\n",
       "Cluster 0     1.0  1.0  NaN     NaN      NaN      NaN          NaN\n",
       "Cluster 1     NaN  4.0  1.0     1.0      1.0      1.0          NaN\n",
       "Cluster 2     NaN  8.0  2.0     NaN      NaN      NaN          1.0"
      ]
     },
     "execution_count": 20,
     "metadata": {},
     "output_type": "execute_result"
    }
   ],
   "source": []
  },
  {
   "cell_type": "markdown",
   "id": "19265523-a0ac-4841-aed7-51bafcbcfda9",
   "metadata": {},
   "source": [
    "With respect to country, the various countries are fairly well spread out across the 4 clusters, though cluster 2 has 5 US firms."
   ]
  },
  {
   "cell_type": "markdown",
   "id": "9df21901-0a5c-4d61-9d39-568871ea0415",
   "metadata": {},
   "source": [
    "**Exchange**\n",
    "\n",
    "<h4 style=\"color:blue\"> Write Your Code Below: </h4>"
   ]
  },
  {
   "cell_type": "code",
   "execution_count": null,
   "id": "be94e40a-7b7d-4cad-9f0c-635231ccb10a",
   "metadata": {},
   "outputs": [],
   "source": []
  },
  {
   "cell_type": "markdown",
   "id": "4f407284-e735-4b82-93ba-c32f6b48929f",
   "metadata": {},
   "source": [
    "<h3 style=\"color:teal\"> Expected Output: </h3>"
   ]
  },
  {
   "cell_type": "code",
   "execution_count": 21,
   "id": "5c41bb50-bfa5-49b2-8b4f-ed5c71a85c7c",
   "metadata": {},
   "outputs": [
    {
     "data": {
      "text/html": [
       "<div>\n",
       "<style scoped>\n",
       "    .dataframe tbody tr th:only-of-type {\n",
       "        vertical-align: middle;\n",
       "    }\n",
       "\n",
       "    .dataframe tbody tr th {\n",
       "        vertical-align: top;\n",
       "    }\n",
       "\n",
       "    .dataframe thead th {\n",
       "        text-align: right;\n",
       "    }\n",
       "</style>\n",
       "<table border=\"1\" class=\"dataframe\">\n",
       "  <thead>\n",
       "    <tr style=\"text-align: right;\">\n",
       "      <th>Exchange</th>\n",
       "      <th>NYSE</th>\n",
       "      <th>NASDAQ</th>\n",
       "      <th>AMEX</th>\n",
       "    </tr>\n",
       "  </thead>\n",
       "  <tbody>\n",
       "    <tr>\n",
       "      <th>Cluster 0</th>\n",
       "      <td>2.0</td>\n",
       "      <td>NaN</td>\n",
       "      <td>NaN</td>\n",
       "    </tr>\n",
       "    <tr>\n",
       "      <th>Cluster 1</th>\n",
       "      <td>6.0</td>\n",
       "      <td>1.0</td>\n",
       "      <td>1.0</td>\n",
       "    </tr>\n",
       "    <tr>\n",
       "      <th>Cluster 2</th>\n",
       "      <td>11.0</td>\n",
       "      <td>NaN</td>\n",
       "      <td>NaN</td>\n",
       "    </tr>\n",
       "  </tbody>\n",
       "</table>\n",
       "</div>"
      ],
      "text/plain": [
       "Exchange   NYSE  NASDAQ  AMEX\n",
       "Cluster 0   2.0     NaN   NaN\n",
       "Cluster 1   6.0     1.0   1.0\n",
       "Cluster 2  11.0     NaN   NaN"
      ]
     },
     "execution_count": 21,
     "metadata": {},
     "output_type": "execute_result"
    }
   ],
   "source": []
  },
  {
   "cell_type": "markdown",
   "id": "307ead10-86d1-4ff1-8481-5eb02aee8935",
   "metadata": {},
   "source": [
    "With respect to exchange, there are only two non-NYSE firms in the data set, and they are in the same cluster, one of the \"small firms\" cluster. (This is \n",
    "consistent with the nature of the AMEX and NASDAQ, which typically host smaller firms than the NYSE.)"
   ]
  },
  {
   "cell_type": "markdown",
   "id": "8a42e5f1-426e-4f1c-b2f7-39336bfdc6c6",
   "metadata": {},
   "source": [
    "### 15.2.d\n",
    "Provide an appropriate name for each cluster using any or all of the variables in the dataset.\n",
    "\n",
    "This step can vary based on the number of clusters used. Some potential names are:\n",
    "\n",
    "- The big boys, financial stars\n",
    "- International establishment with decent financial performance.\n",
    "- Slow growth mid-size\n",
    "- Fast growth small-cap"
   ]
  },
  {
   "cell_type": "markdown",
   "id": "7b7219eb-4eee-4564-949b-ee7d3275ab4d",
   "metadata": {},
   "source": [
    "# Problem 15.4: Marketing to Frequent Fliers\n",
    "\n",
    "The file _EastWestAirlinesCluster.csv_ contains information on 3999 passengers who belong to an airline's frequent flier program. For each passenger, the data include information on their mileage history and on different ways they accrued or spent miles in the last year. The goal is to try to identify clusters of passengers that have similar characteristics for the purpose of targeting different segments for different types of mileage offers."
   ]
  },
  {
   "cell_type": "markdown",
   "id": "833731df-f8d6-48be-935e-32a595206ddc",
   "metadata": {},
   "source": [
    "**Load orders data and display first 5 rows.**\n",
    "\n",
    "Use the ID# column as the index\n",
    "\n",
    "<h4 style=\"color:blue\"> Write Your Code Below: </h4>"
   ]
  },
  {
   "cell_type": "code",
   "execution_count": null,
   "id": "95c3d113-d7f4-41aa-abf3-8c0ffbaee560",
   "metadata": {},
   "outputs": [],
   "source": []
  },
  {
   "cell_type": "markdown",
   "id": "24dc6d53-a9e5-4681-8f9b-5e29ec73339b",
   "metadata": {},
   "source": [
    "<h3 style=\"color:teal\"> Expected Output: </h3>"
   ]
  },
  {
   "cell_type": "code",
   "execution_count": 22,
   "id": "cc1ca978-3a6d-4d9a-acc3-4c9166b54b98",
   "metadata": {},
   "outputs": [
    {
     "data": {
      "text/html": [
       "<div>\n",
       "<style scoped>\n",
       "    .dataframe tbody tr th:only-of-type {\n",
       "        vertical-align: middle;\n",
       "    }\n",
       "\n",
       "    .dataframe tbody tr th {\n",
       "        vertical-align: top;\n",
       "    }\n",
       "\n",
       "    .dataframe thead th {\n",
       "        text-align: right;\n",
       "    }\n",
       "</style>\n",
       "<table border=\"1\" class=\"dataframe\">\n",
       "  <thead>\n",
       "    <tr style=\"text-align: right;\">\n",
       "      <th></th>\n",
       "      <th>Balance</th>\n",
       "      <th>Qual_miles</th>\n",
       "      <th>cc1_miles</th>\n",
       "      <th>cc2_miles</th>\n",
       "      <th>cc3_miles</th>\n",
       "      <th>Bonus_miles</th>\n",
       "      <th>Bonus_trans</th>\n",
       "      <th>Flight_miles_12mo</th>\n",
       "      <th>Flight_trans_12</th>\n",
       "      <th>Days_since_enroll</th>\n",
       "      <th>Award?</th>\n",
       "    </tr>\n",
       "    <tr>\n",
       "      <th>ID#</th>\n",
       "      <th></th>\n",
       "      <th></th>\n",
       "      <th></th>\n",
       "      <th></th>\n",
       "      <th></th>\n",
       "      <th></th>\n",
       "      <th></th>\n",
       "      <th></th>\n",
       "      <th></th>\n",
       "      <th></th>\n",
       "      <th></th>\n",
       "    </tr>\n",
       "  </thead>\n",
       "  <tbody>\n",
       "    <tr>\n",
       "      <th>1</th>\n",
       "      <td>28143</td>\n",
       "      <td>0</td>\n",
       "      <td>1</td>\n",
       "      <td>1</td>\n",
       "      <td>1</td>\n",
       "      <td>174</td>\n",
       "      <td>1</td>\n",
       "      <td>0</td>\n",
       "      <td>0</td>\n",
       "      <td>7000</td>\n",
       "      <td>0</td>\n",
       "    </tr>\n",
       "    <tr>\n",
       "      <th>2</th>\n",
       "      <td>19244</td>\n",
       "      <td>0</td>\n",
       "      <td>1</td>\n",
       "      <td>1</td>\n",
       "      <td>1</td>\n",
       "      <td>215</td>\n",
       "      <td>2</td>\n",
       "      <td>0</td>\n",
       "      <td>0</td>\n",
       "      <td>6968</td>\n",
       "      <td>0</td>\n",
       "    </tr>\n",
       "    <tr>\n",
       "      <th>3</th>\n",
       "      <td>41354</td>\n",
       "      <td>0</td>\n",
       "      <td>1</td>\n",
       "      <td>1</td>\n",
       "      <td>1</td>\n",
       "      <td>4123</td>\n",
       "      <td>4</td>\n",
       "      <td>0</td>\n",
       "      <td>0</td>\n",
       "      <td>7034</td>\n",
       "      <td>0</td>\n",
       "    </tr>\n",
       "    <tr>\n",
       "      <th>4</th>\n",
       "      <td>14776</td>\n",
       "      <td>0</td>\n",
       "      <td>1</td>\n",
       "      <td>1</td>\n",
       "      <td>1</td>\n",
       "      <td>500</td>\n",
       "      <td>1</td>\n",
       "      <td>0</td>\n",
       "      <td>0</td>\n",
       "      <td>6952</td>\n",
       "      <td>0</td>\n",
       "    </tr>\n",
       "    <tr>\n",
       "      <th>5</th>\n",
       "      <td>97752</td>\n",
       "      <td>0</td>\n",
       "      <td>4</td>\n",
       "      <td>1</td>\n",
       "      <td>1</td>\n",
       "      <td>43300</td>\n",
       "      <td>26</td>\n",
       "      <td>2077</td>\n",
       "      <td>4</td>\n",
       "      <td>6935</td>\n",
       "      <td>1</td>\n",
       "    </tr>\n",
       "  </tbody>\n",
       "</table>\n",
       "</div>"
      ],
      "text/plain": [
       "     Balance  Qual_miles  cc1_miles  cc2_miles  cc3_miles  Bonus_miles  \\\n",
       "ID#                                                                      \n",
       "1      28143           0          1          1          1          174   \n",
       "2      19244           0          1          1          1          215   \n",
       "3      41354           0          1          1          1         4123   \n",
       "4      14776           0          1          1          1          500   \n",
       "5      97752           0          4          1          1        43300   \n",
       "\n",
       "     Bonus_trans  Flight_miles_12mo  Flight_trans_12  Days_since_enroll  \\\n",
       "ID#                                                                       \n",
       "1              1                  0                0               7000   \n",
       "2              2                  0                0               6968   \n",
       "3              4                  0                0               7034   \n",
       "4              1                  0                0               6952   \n",
       "5             26               2077                4               6935   \n",
       "\n",
       "     Award?  \n",
       "ID#          \n",
       "1         0  \n",
       "2         0  \n",
       "3         0  \n",
       "4         0  \n",
       "5         1  "
      ]
     },
     "execution_count": 22,
     "metadata": {},
     "output_type": "execute_result"
    }
   ],
   "source": []
  },
  {
   "cell_type": "markdown",
   "id": "1ab1d6c1-1956-4f99-85c0-3f9b23ac26bb",
   "metadata": {},
   "source": [
    "**Normalize the data and display first 5 rows.**\n",
    "\n",
    "<h4 style=\"color:blue\"> Write Your Code Below: </h4>"
   ]
  },
  {
   "cell_type": "code",
   "execution_count": null,
   "id": "0750cb96-d848-4c5e-8db2-98c4b06d7d7c",
   "metadata": {},
   "outputs": [],
   "source": []
  },
  {
   "cell_type": "markdown",
   "id": "86a78ca7-36b1-4bfc-9607-a31b93b80c67",
   "metadata": {},
   "source": [
    "<h3 style=\"color:teal\"> Expected Output: </h3>"
   ]
  },
  {
   "cell_type": "code",
   "execution_count": 23,
   "id": "ea79f3cd-230d-4f94-8bf8-0c2d0908e739",
   "metadata": {},
   "outputs": [
    {
     "data": {
      "text/html": [
       "<div>\n",
       "<style scoped>\n",
       "    .dataframe tbody tr th:only-of-type {\n",
       "        vertical-align: middle;\n",
       "    }\n",
       "\n",
       "    .dataframe tbody tr th {\n",
       "        vertical-align: top;\n",
       "    }\n",
       "\n",
       "    .dataframe thead th {\n",
       "        text-align: right;\n",
       "    }\n",
       "</style>\n",
       "<table border=\"1\" class=\"dataframe\">\n",
       "  <thead>\n",
       "    <tr style=\"text-align: right;\">\n",
       "      <th></th>\n",
       "      <th>Balance</th>\n",
       "      <th>Qual_miles</th>\n",
       "      <th>cc1_miles</th>\n",
       "      <th>cc2_miles</th>\n",
       "      <th>cc3_miles</th>\n",
       "      <th>Bonus_miles</th>\n",
       "      <th>Bonus_trans</th>\n",
       "      <th>Flight_miles_12mo</th>\n",
       "      <th>Flight_trans_12</th>\n",
       "      <th>Days_since_enroll</th>\n",
       "      <th>Award?</th>\n",
       "    </tr>\n",
       "    <tr>\n",
       "      <th>ID#</th>\n",
       "      <th></th>\n",
       "      <th></th>\n",
       "      <th></th>\n",
       "      <th></th>\n",
       "      <th></th>\n",
       "      <th></th>\n",
       "      <th></th>\n",
       "      <th></th>\n",
       "      <th></th>\n",
       "      <th></th>\n",
       "      <th></th>\n",
       "    </tr>\n",
       "  </thead>\n",
       "  <tbody>\n",
       "    <tr>\n",
       "      <th>1</th>\n",
       "      <td>-0.451141</td>\n",
       "      <td>-0.186299</td>\n",
       "      <td>-0.769578</td>\n",
       "      <td>-0.098242</td>\n",
       "      <td>-0.062767</td>\n",
       "      <td>-0.702786</td>\n",
       "      <td>-1.104065</td>\n",
       "      <td>-0.328603</td>\n",
       "      <td>-0.362168</td>\n",
       "      <td>1.395454</td>\n",
       "      <td>-0.766919</td>\n",
       "    </tr>\n",
       "    <tr>\n",
       "      <th>2</th>\n",
       "      <td>-0.539457</td>\n",
       "      <td>-0.186299</td>\n",
       "      <td>-0.769578</td>\n",
       "      <td>-0.098242</td>\n",
       "      <td>-0.062767</td>\n",
       "      <td>-0.701088</td>\n",
       "      <td>-0.999926</td>\n",
       "      <td>-0.328603</td>\n",
       "      <td>-0.362168</td>\n",
       "      <td>1.379957</td>\n",
       "      <td>-0.766919</td>\n",
       "    </tr>\n",
       "    <tr>\n",
       "      <th>3</th>\n",
       "      <td>-0.320031</td>\n",
       "      <td>-0.186299</td>\n",
       "      <td>-0.769578</td>\n",
       "      <td>-0.098242</td>\n",
       "      <td>-0.062767</td>\n",
       "      <td>-0.539253</td>\n",
       "      <td>-0.791649</td>\n",
       "      <td>-0.328603</td>\n",
       "      <td>-0.362168</td>\n",
       "      <td>1.411920</td>\n",
       "      <td>-0.766919</td>\n",
       "    </tr>\n",
       "    <tr>\n",
       "      <th>4</th>\n",
       "      <td>-0.583799</td>\n",
       "      <td>-0.186299</td>\n",
       "      <td>-0.769578</td>\n",
       "      <td>-0.098242</td>\n",
       "      <td>-0.062767</td>\n",
       "      <td>-0.689286</td>\n",
       "      <td>-1.104065</td>\n",
       "      <td>-0.328603</td>\n",
       "      <td>-0.362168</td>\n",
       "      <td>1.372208</td>\n",
       "      <td>-0.766919</td>\n",
       "    </tr>\n",
       "    <tr>\n",
       "      <th>5</th>\n",
       "      <td>0.239678</td>\n",
       "      <td>-0.186299</td>\n",
       "      <td>1.409471</td>\n",
       "      <td>-0.098242</td>\n",
       "      <td>-0.062767</td>\n",
       "      <td>1.083121</td>\n",
       "      <td>1.499394</td>\n",
       "      <td>1.154932</td>\n",
       "      <td>0.692490</td>\n",
       "      <td>1.363975</td>\n",
       "      <td>1.303918</td>\n",
       "    </tr>\n",
       "  </tbody>\n",
       "</table>\n",
       "</div>"
      ],
      "text/plain": [
       "      Balance  Qual_miles  cc1_miles  cc2_miles  cc3_miles  Bonus_miles  \\\n",
       "ID#                                                                       \n",
       "1   -0.451141   -0.186299  -0.769578  -0.098242  -0.062767    -0.702786   \n",
       "2   -0.539457   -0.186299  -0.769578  -0.098242  -0.062767    -0.701088   \n",
       "3   -0.320031   -0.186299  -0.769578  -0.098242  -0.062767    -0.539253   \n",
       "4   -0.583799   -0.186299  -0.769578  -0.098242  -0.062767    -0.689286   \n",
       "5    0.239678   -0.186299   1.409471  -0.098242  -0.062767     1.083121   \n",
       "\n",
       "     Bonus_trans  Flight_miles_12mo  Flight_trans_12  Days_since_enroll  \\\n",
       "ID#                                                                       \n",
       "1      -1.104065          -0.328603        -0.362168           1.395454   \n",
       "2      -0.999926          -0.328603        -0.362168           1.379957   \n",
       "3      -0.791649          -0.328603        -0.362168           1.411920   \n",
       "4      -1.104065          -0.328603        -0.362168           1.372208   \n",
       "5       1.499394           1.154932         0.692490           1.363975   \n",
       "\n",
       "       Award?  \n",
       "ID#            \n",
       "1   -0.766919  \n",
       "2   -0.766919  \n",
       "3   -0.766919  \n",
       "4   -0.766919  \n",
       "5    1.303918  "
      ]
     },
     "execution_count": 23,
     "metadata": {},
     "output_type": "execute_result"
    }
   ],
   "source": []
  },
  {
   "cell_type": "markdown",
   "id": "eb84792c-24d2-4985-a8d4-0d9a1e9b855f",
   "metadata": {},
   "source": [
    "#### Evaluate Different Values of k\n",
    "\n",
    "**Elbow Chart**\n",
    "\n",
    "<h4 style=\"color:blue\"> Write Your Code Below: </h4>"
   ]
  },
  {
   "cell_type": "code",
   "execution_count": null,
   "id": "6a91d119-12d7-4254-bf30-624a376e7282",
   "metadata": {},
   "outputs": [],
   "source": []
  },
  {
   "cell_type": "markdown",
   "id": "2a3fed6f-3e51-4ae7-b0b3-c3806c837747",
   "metadata": {},
   "source": [
    "<h3 style=\"color:teal\"> Expected Output: </h3>"
   ]
  },
  {
   "cell_type": "code",
   "execution_count": 24,
   "id": "b950a72c-3860-4053-9dc0-2a711390f54a",
   "metadata": {},
   "outputs": [
    {
     "data": {
      "image/png": "[encoded data removed]",
      "text/plain": [
       "<Figure size 640x480 with 1 Axes>"
      ]
     },
     "metadata": {},
     "output_type": "display_data"
    }
   ],
   "source": []
  },
  {
   "cell_type": "markdown",
   "id": "81e375b4-4ec2-4188-972f-14865e09d914",
   "metadata": {},
   "source": [
    "**Plot Silhouette Scores**\n",
    "\n",
    "Experiment with different init paramaters to view the varying results.\n",
    "\n",
    "<h4 style=\"color:blue\"> Write Your Code Below: </h4>"
   ]
  },
  {
   "cell_type": "code",
   "execution_count": null,
   "id": "3f070a18-a73f-4872-ba3c-087a0982357b",
   "metadata": {},
   "outputs": [],
   "source": []
  },
  {
   "cell_type": "markdown",
   "id": "92395ed9-3f0f-488d-85dd-1aaad077cbc8",
   "metadata": {},
   "source": [
    "<h3 style=\"color:teal\"> Expected Output: </h3>"
   ]
  },
  {
   "cell_type": "code",
   "execution_count": 25,
   "id": "e23df987-6560-47e8-84f4-a26fff33ad99",
   "metadata": {},
   "outputs": [
    {
     "data": {
      "image/png": "[encoded data removed]",
      "text/plain": [
       "<Figure size 640x480 with 1 Axes>"
      ]
     },
     "metadata": {},
     "output_type": "display_data"
    }
   ],
   "source": []
  },
  {
   "cell_type": "markdown",
   "id": "da619134-42e6-425f-b526-ceb4a0dd2824",
   "metadata": {},
   "source": [
    "**Profile Plot**\n",
    "\n",
    "<h4 style=\"color:blue\"> Write Your Code Below: </h4>"
   ]
  },
  {
   "cell_type": "code",
   "execution_count": null,
   "id": "252094e5-55b3-4fc5-aec0-cee42447a1dd",
   "metadata": {},
   "outputs": [],
   "source": []
  },
  {
   "cell_type": "markdown",
   "id": "b84a5a8d-cb06-49d9-ba06-034c2d989a58",
   "metadata": {},
   "source": [
    "<h3 style=\"color:teal\"> Expected Output: </h3>"
   ]
  },
  {
   "cell_type": "code",
   "execution_count": 26,
   "id": "44fedb38-2313-40a4-b268-caebbe6a9219",
   "metadata": {},
   "outputs": [
    {
     "data": {
      "image/png": "[encoded data removed]",
      "text/plain": [
       "<Figure size 1500x500 with 1 Axes>"
      ]
     },
     "metadata": {},
     "output_type": "display_data"
    }
   ],
   "source": []
  },
  {
   "cell_type": "markdown",
   "id": "3743542b-8bf3-4bdf-bc33-cd44400c3f8c",
   "metadata": {},
   "source": [
    "**Use PCA to Visualize Clusters**\n",
    "\n",
    "<h4 style=\"color:blue\"> Write Your Code Below: </h4>"
   ]
  },
  {
   "cell_type": "code",
   "execution_count": null,
   "id": "aa95ed9e-8608-4f63-96cb-4a6cf90afe6a",
   "metadata": {},
   "outputs": [],
   "source": []
  },
  {
   "cell_type": "markdown",
   "id": "9b042c57-84eb-485c-8b7a-600a573377cc",
   "metadata": {},
   "source": [
    "<h3 style=\"color:teal\"> Expected Output: </h3>"
   ]
  },
  {
   "cell_type": "code",
   "execution_count": 27,
   "id": "0ce3ae64-e6ad-4a8b-a0d2-21bddb8a3a6d",
   "metadata": {},
   "outputs": [
    {
     "data": {
      "image/png": "[encoded data removed]",
      "text/plain": [
       "<Figure size 640x480 with 1 Axes>"
      ]
     },
     "metadata": {},
     "output_type": "display_data"
    }
   ],
   "source": []
  },
  {
   "cell_type": "markdown",
   "id": "969ee288-3a29-4a65-a417-341aa21803d1",
   "metadata": {},
   "source": [
    "### 15.4.f\n",
    "\n",
    "Which clusters would you target for offers, and what types of offers would you target to customers in that cluster?\n",
    "\n",
    "For the \"minimal, non-frequent\" flyers, two types of offers might be used.\n",
    "1. Offers to liquidate the mileage, to remove it as a liability (e.g., offers to purchase magazine subscriptions)\n",
    "2. Offers for special mileage bonuses if a number of segments or miles is flown in a limited period of time, in case some of these flyers are regular customers of other airlines, or new flyers, in hopes that some of them will become more \"invested\" in East-West.\n",
    "\n",
    "For the frequent, loyal flyer we might\n",
    "\n",
    "1. Offer luxury goods in conjunction with partners (high end vacations, exclusive real estate, etc.) -- frequent flyers are likely to be relatively prosperous (compared to non-frequent flyers)."
   ]
  },
  {
   "cell_type": "code",
   "execution_count": null,
   "id": "7337db88-ecdb-4ae2-8771-61f8fd18df65",
   "metadata": {},
   "outputs": [],
   "source": []
  }
 ],
 "metadata": {
  "kernelspec": {
   "display_name": "Python 3 (ipykernel)",
   "language": "python",
   "name": "python3"
  },
  "language_info": {
   "codemirror_mode": {
    "name": "ipython",
    "version": 3
   },
   "file_extension": ".py",
   "mimetype": "text/x-python",
   "name": "python",
   "nbconvert_exporter": "python",
   "pygments_lexer": "ipython3",
   "version": "3.12.7"
  }
 },
 "nbformat": 4,
 "nbformat_minor": 5
}
